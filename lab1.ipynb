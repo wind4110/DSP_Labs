{
 "cells": [
  {
   "cell_type": "markdown",
   "metadata": {},
   "source": [
    "# 有限长序列、频谱、DFT的性质"
   ]
  },
  {
   "cell_type": "markdown",
   "metadata": {},
   "source": [
    "**数字信号处理 3210100658 许展风**"
   ]
  },
  {
   "cell_type": "markdown",
   "metadata": {},
   "source": [
    "#### 导入必要的库，matplotlib用于作图，numpy用于向量运算"
   ]
  },
  {
   "cell_type": "code",
   "execution_count": null,
   "metadata": {},
   "outputs": [],
   "source": [
    "# Import libs\n",
    "import matplotlib.pyplot as plt\n",
    "import numpy as np"
   ]
  },
  {
   "cell_type": "markdown",
   "metadata": {},
   "source": [
    "#### 编写绘制序列用的函数，以及DFT函数，经验证与numpy库中的fft函数是等效的"
   ]
  },
  {
   "cell_type": "code",
   "execution_count": null,
   "metadata": {},
   "outputs": [],
   "source": [
    "def xshow(n, x, title, xlabel, ylabel):\n",
    "    ''' 描绘序列, 绘制棒棒糖图(Lollipop Chart)\n",
    "\n",
    "    :n: 与x等长的自然数序列\n",
    "    :x: 需要绘制的序列\n",
    "    :title: 图标题\n",
    "    :xlabel: x轴标签\n",
    "    :ylabel: y轴标签\n",
    "    \n",
    "    '''\n",
    "    # plot the chart\n",
    "    fig, ax = plt.subplots(figsize=(15,4), dpi= 100)\n",
    "    ax.vlines(x=n, ymin=0, ymax=x, alpha=0.7, linewidth=2)                #plot line\n",
    "    ax.scatter(x=n, y=x, s=75, alpha=0.7)                                 #plot dots\n",
    "\n",
    "    # Title, Lable, Ticks, and Ylim\n",
    "    ax.set_title(title, fontdict={'size':20})      \n",
    "    ax.set_ylabel(ylabel,fontdict={'size':20})                             \n",
    "    plt.tick_params(labelsize=20)\n",
    "    ax.set_xticks(n)                                                       \n",
    "    ax.set_xlabel(xlabel,fontdict={'size':20})\n",
    "    if(round(np.min(x),2)<0):\n",
    "        ax.set_ylim(np.min(x)-0.5,np.max(x)+0.5)\n",
    "    else:\n",
    "        ax.set_ylim(0, np.max(x)+0.5)\n",
    "\n",
    "    # Annotation\n",
    "    for i,j in zip(n,x):\n",
    "        ax.text(i, j+.1, s=round(j, 2), horizontalalignment= 'center', verticalalignment='bottom', fontsize=14)\n",
    "\n",
    "    plt.show()\n",
    "    return\n",
    "\n",
    "def xDft(x, length):\n",
    "    '''对序列做DFT变换\n",
    "\n",
    "    :x: 待变换的序列\n",
    "    :length: 序列长度\n",
    "    :return Xf: 变换后序列\n",
    "\n",
    "    '''\n",
    "    Xf=np.zeros(length, dtype=complex)\n",
    "    n=np.arange(0,length)\n",
    "    for k in n:\n",
    "        for m in n:\n",
    "            Xf[k]+=x[m]*np.e**(-2*np.pi*1j*m*k/length)\n",
    "    return Xf\n"
   ]
  },
  {
   "cell_type": "markdown",
   "metadata": {},
   "source": [
    "## 2-1-1 实指数序列 "
   ]
  },
  {
   "cell_type": "markdown",
   "metadata": {},
   "source": [
    "#### 编写用于生成要求实指数序列的函数"
   ]
  },
  {
   "cell_type": "code",
   "execution_count": null,
   "metadata": {},
   "outputs": [],
   "source": [
    "def x1genarate(a1,length1):\n",
    "    '''生成实指数序列a^n\n",
    "    :a1: 底数\n",
    "    :length1: 序列长度\n",
    "    :return: 实指数序列和对应自然数序列\n",
    "\n",
    "    '''\n",
    "    x1 = np.zeros(length1)\n",
    "    n1 = np.arange(0,length1)\n",
    "    for i in n1:\n",
    "        x1[i]=a1**i\n",
    "    return [x1,n1]\n"
   ]
  },
  {
   "cell_type": "markdown",
   "metadata": {},
   "source": [
    "### 实指数序列，第一组参数，生成并画图，实指数序列没有虚部，故省去虚部图、模图、相角图。"
   ]
  },
  {
   "cell_type": "code",
   "execution_count": null,
   "metadata": {},
   "outputs": [],
   "source": [
    "# Param\n",
    "a1 = 0.5\n",
    "length1 = 10\n",
    "\n",
    "# Array genaration\n",
    "x1, n1=x1genarate(a1,length1)\n",
    "xshow(n1,x1,'x1[n]=a^n, a=0.5, length=10','n','x1[n]')\n",
    "\n",
    "# DFT\n",
    "Xf1=xDft(x1,length1)\n",
    "\n",
    "# Plot\n",
    "xshow(n1, np.abs(Xf1), '|DFT(x1[n])|', 'k', '|X[k]|')\n",
    "xshow(n1, np.real(Xf1),'Real(DFT(x1[n]))', 'k', 'Real(X[k])')\n",
    "xshow(n1, np.imag(Xf1),'Imag(DFT(x1[n]))', 'k', 'Imag(X[k])')\n"
   ]
  },
  {
   "cell_type": "markdown",
   "metadata": {},
   "source": [
    "### 实指数序列，第二组参数，生成并画图，实指数序列没有虚部，故省去虚部图、模图、相角图。"
   ]
  },
  {
   "cell_type": "code",
   "execution_count": null,
   "metadata": {},
   "outputs": [],
   "source": [
    "# Param\n",
    "a2 = 0.9\n",
    "length2 = 10\n",
    "\n",
    "# Data preparation\n",
    "x2, n2=x1genarate(a2,length2)\n",
    "\n",
    "xshow(n2,x2,'x2[n]=a^n, a=0.9, length=10','n','x2[n]')\n",
    "\n",
    "# DFT\n",
    "Xf2=xDft(x2,length2)\n",
    "\n",
    "# Plot\n",
    "xshow(n2, np.abs(Xf2), '|DFT(x2[n])|', 'k', '|X[k]|')\n",
    "xshow(n2, np.real(Xf2),'Real(DFT(x2[n]))', 'k', 'Real(X[k])')\n",
    "xshow(n2, np.imag(Xf2),'Imag(DFT(x2[n]))', 'k', 'Imag(X[k])')"
   ]
  },
  {
   "cell_type": "markdown",
   "metadata": {},
   "source": [
    "### 实指数序列，第三组参数，生成并画图，实指数序列没有虚部，故省去虚部图、模图、相角图。"
   ]
  },
  {
   "cell_type": "code",
   "execution_count": null,
   "metadata": {},
   "outputs": [],
   "source": [
    "# Param\n",
    "a3 = 0.9\n",
    "length3 = 20\n",
    "\n",
    "# Data preparation\n",
    "x3, n3=x1genarate(a3,length3)\n",
    "\n",
    "xshow(n3, x3, 'x3[n]=a^n, a=0.9, length=20', 'n', 'x3[n]')\n",
    "\n",
    "# DFT\n",
    "Xf3=xDft(x3, length3)\n",
    "\n",
    "# Plot\n",
    "xshow(n3, np.abs(Xf3), '|DFT(x3[n])|', 'k', '|X3[k]|')\n",
    "xshow(n3, np.real(Xf3),'Real(DFT(x3[n]))', 'k', 'Real(X3[k])')\n",
    "xshow(n3, np.imag(Xf3),'Imag(DFT(x3[n]))', 'k', 'Imag(X3[k])')"
   ]
  },
  {
   "cell_type": "markdown",
   "metadata": {},
   "source": [
    "## 2-1-2 复指数序列 a=0.5, b=0.8, length=10"
   ]
  },
  {
   "cell_type": "code",
   "execution_count": null,
   "metadata": {},
   "outputs": [],
   "source": [
    "# Param\n",
    "a4=0.5\n",
    "b4=0.8\n",
    "length4=10\n",
    "\n",
    "# Data genaration\n",
    "n4 = np.arange(0, length4)\n",
    "x4 = np.zeros(length4, dtype=complex)\n",
    "for i in n4:\n",
    "    x4[i] = complex(a4,b4)**i\n",
    "\n",
    "# Plot\n",
    "xshow(n4, np.real(x4), 'Real(x4[n])=Real[(a+bj)^n]\\na=0.5, b=0.8, length=10', 'n', 'Real(x4[n])')\n",
    "xshow(n4, np.imag(x4), 'Imag(x4[n])=Imag[(a+bj)^n]\\na=0.5, b=0.8, length=10', 'n', 'Imag(x4[n])')\n",
    "xshow(n4, np.abs(x4), '|x4[n]|=|(a+bj)^n|\\n a=0.5, b=0.8, length=10', 'n', '|x4[n]|')\n",
    "xshow(n4, np.angle(x4), 'angle(x4[n])=angle[(a+bj)^n]\\na=0.5, b=0.8, length=10', 'n', 'angle(x4[n])')\n",
    "\n",
    "# DFT\n",
    "Xf4=xDft(x4, length4)\n",
    "\n",
    "# Plot\n",
    "xshow(n4, np.abs(Xf4), '|DFT(x4[n])|', 'k', '|X4[k]|')\n",
    "xshow(n4, np.real(Xf4),'Real(DFT(x4[n]))', 'k', 'Real(X4[k])')\n",
    "xshow(n4, np.imag(Xf4),'Imag(DFT(x4[n]))', 'k', 'Imag(X4[k])')\n",
    "\n"
   ]
  },
  {
   "cell_type": "markdown",
   "metadata": {},
   "source": [
    "## 2-1-3 从正弦信号中抽样，f=1Hz, $\\psi$=0, T=0.1, length=10"
   ]
  },
  {
   "cell_type": "code",
   "execution_count": null,
   "metadata": {},
   "outputs": [],
   "source": [
    "# Param\n",
    "f5=1\n",
    "psi5=0\n",
    "T5=0.1\n",
    "length5=20\n",
    "\n",
    "# Data preparation\n",
    "n5 = np.arange(0,length5)\n",
    "x5 = np.zeros(length5)\n",
    "for i in n5:\n",
    "    if(i<10):\n",
    "        x5[i] = np.sin(2*np.pi*f5*i*T5+psi5)\n",
    "\n",
    "# Plot\n",
    "xshow(n5, x5, '$x_5[n]=sin(2 \\pi fnT+ \\psi ), f=1, \\psi=0, T=0.1, length=10$', 'n', 'x5[n]')\n",
    "\n",
    "# DFT\n",
    "Xf5=xDft(x5, length5)\n",
    "\n",
    "# Plot\n",
    "xshow(n5, np.abs(Xf5), '|DFT(x5[n])|', 'k', '|X5[k]|')\n",
    "xshow(n5, np.real(Xf5),'Real(DFT(x5[n]))', 'k', 'Real(X5[k])')\n",
    "xshow(n5, np.imag(Xf5),'Imag(DFT(x5[n]))', 'k', 'Imag(X5[k])')\n"
   ]
  },
  {
   "cell_type": "markdown",
   "metadata": {},
   "source": [
    "## 2-1-4 从余弦信号抽样 f=1， $\\psi$=0, T=0.1, length=10"
   ]
  },
  {
   "cell_type": "code",
   "execution_count": null,
   "metadata": {},
   "outputs": [],
   "source": [
    "# Param\n",
    "f6=1\n",
    "psi6=0\n",
    "T6=0.1\n",
    "length6=10\n",
    "\n",
    "# Data preparation\n",
    "n6 = np.arange(0,length6)\n",
    "x6 = np.zeros(length6)\n",
    "for i in n6:\n",
    "    x6[i] = np.cos(2*np.pi*f6*i*T6+psi6)\n",
    "\n",
    "# Plot\n",
    "xshow(n6, x6, 'x6[n]=cos(2*pi*f*n*T+psi), f=1, psi=0, T=0.1, length=10', 'n', 'x6[n]')\n",
    "\n",
    "# DFT\n",
    "Xf6=xDft(x6, length6)\n",
    "\n",
    "# Plot\n",
    "xshow(n6, np.abs(Xf6), '|DFT(x6[n])|', 'k', '|X6[k]|')\n",
    "xshow(n6, np.real(Xf6),'Real(DFT(x6[n]))', 'k', 'Real(X6[k])')\n",
    "xshow(n6, np.imag(Xf6),'Imag(DFT(x6[n]))', 'k', 'Imag(X6[k])')\n"
   ]
  },
  {
   "cell_type": "markdown",
   "metadata": {},
   "source": [
    "## 2-1-5 生成含两个频率分量的复合函数序列"
   ]
  },
  {
   "cell_type": "markdown",
   "metadata": {},
   "source": [
    "### 编写生成符合函数序列的函数"
   ]
  },
  {
   "cell_type": "code",
   "execution_count": null,
   "metadata": {},
   "outputs": [],
   "source": [
    "\n",
    "def x7generate(f1, f2, deta, psi, T, length):\n",
    "    '''生成含有两个频率分量的复合函数序列\n",
    "    \n",
    "    :f1: 分量1的频率\n",
    "    :f2: 分量2的频率\n",
    "    :deta: 相对振幅\n",
    "    :psi:初相位\n",
    "    :T: 抽样间隔\n",
    "    :length: 序列长\n",
    "    :return x: 生成的序列\n",
    "    :return n: 和生成序列等长的自然数列\n",
    "    '''   \n",
    "    n = np.arange(0, length)\n",
    "    x = np.zeros(length)\n",
    "    for i in n:\n",
    "        x[i] = np.sin(2*np.pi*f1*i*T)+deta*np.sin(2*np.pi*f2*i*T+psi)\n",
    "    return [x,n]\n"
   ]
  },
  {
   "cell_type": "markdown",
   "metadata": {},
   "source": [
    "### 根据第一组参数生成并分析序列"
   ]
  },
  {
   "cell_type": "code",
   "execution_count": null,
   "metadata": {},
   "outputs": [],
   "source": [
    "# Param\n",
    "f71=1\n",
    "f72=3\n",
    "deta7=0.5\n",
    "psi7=0\n",
    "T7=0.1\n",
    "length7=10\n",
    "\n",
    "# Data preparation\n",
    "x7,n7=x7generate(f71, f72, deta7, psi7, T7, length7)\n",
    "\n",
    "# Plot\n",
    "xshow(n7, x7, 'x7[n]=sin(2*pi*f1*n*T)+deta*sin(2*pi*f2*n*T+psi), \\n f1=1, f2=3, deta=0.5, psi=0, T=0.1, length=10', 'n', 'x7[n]')\n",
    "\n",
    "# DFT\n",
    "Xf7=xDft(x7, length7)\n",
    "\n",
    "# Plot\n",
    "xshow(n7, np.abs(Xf7), '|DFT(x7[n])|', 'k', '|X7[k]|')\n",
    "xshow(n7, np.real(Xf7),'Real(DFT(x7[n]))', 'k', 'Real(X7[k])')\n",
    "xshow(n7, np.imag(Xf7),'Imag(DFT(x7[n]))', 'k', 'Imag(X7[k])')"
   ]
  },
  {
   "cell_type": "markdown",
   "metadata": {},
   "source": [
    "### 根据第二组参数生成并分析序列"
   ]
  },
  {
   "cell_type": "code",
   "execution_count": null,
   "metadata": {},
   "outputs": [],
   "source": [
    "# Param\n",
    "f81=1\n",
    "f82=3\n",
    "deta8=0.5\n",
    "psi8=np.pi/2\n",
    "T8=0.1\n",
    "length8=10\n",
    "\n",
    "# Data preparation\n",
    "x8,n8=x7generate(f81, f82, deta8, psi8, T8, length8)\n",
    "\n",
    "# Plot\n",
    "xshow(n8, x8, 'x8[n]=sin(2*pi*f1*n*T)+deta*sin(2*pi*f2*n*T+psi), \\n f1=1, f2=3, deta=0.5, psi=pi/2, T=0.1, length=10', 'n', 'x7[n]')\n",
    "\n",
    "# DFT\n",
    "Xf8=xDft(x8, length8)\n",
    "\n",
    "# Plot\n",
    "xshow(n8, np.abs(Xf8), '|DFT(x8[n])|', 'k', '|X8[k]|')\n",
    "xshow(n8, np.real(Xf8),'Real(DFT(x8[n]))', 'k', 'Real(X8[k])')\n",
    "xshow(n8, np.imag(Xf8),'Imag(DFT(x8[n]))', 'k', 'Imag(X8[k])')"
   ]
  },
  {
   "cell_type": "markdown",
   "metadata": {},
   "source": [
    "### 根据第三组参数生成并分析序列"
   ]
  },
  {
   "cell_type": "code",
   "execution_count": null,
   "metadata": {},
   "outputs": [],
   "source": [
    "# Param\n",
    "f91=1\n",
    "f92=3\n",
    "deta9=0.5\n",
    "psi9=np.pi\n",
    "T9=0.1\n",
    "length9=10\n",
    "\n",
    "# Data preparation\n",
    "x9, n9=x7generate(f91, f92, deta9, psi9, T9, length9)\n",
    "\n",
    "# Plot\n",
    "xshow(n9, x9, 'x9[n]=sin(2*pi*f1*n*T)+deta*sin(2*pi*f2*n*T+psi), \\n f1=1, f2=3, deta=0.5, psi=pi, T=0.1, length=10', 'n', 'x9[n]')\n",
    "\n",
    "# DFT\n",
    "Xf9=xDft(x9, length9)\n",
    "\n",
    "# Plot\n",
    "xshow(n9, np.abs(Xf9) , '|DFT(x9[n])|', 'k', '|X9[k]|')\n",
    "xshow(n9, np.abs(np.fft.fftshift(Xf9)), '|DFT(x9[n])|', 'k', '|X9[k]|')\n",
    "xshow(n9, np.real(Xf9),'Real(DFT(x9[n]))', 'k', 'Real(X9[k])')\n",
    "xshow(n9, np.imag(Xf9),'Imag(DFT(x9[n]))', 'k', 'Imag(X9[k])')"
   ]
  },
  {
   "cell_type": "code",
   "execution_count": 30,
   "metadata": {},
   "outputs": [],
   "source": [
    "def hf(n):\n",
    "    return (0.5 - 0.5 * np.cos(n * np.pi / 28)) * (np.sin(\n",
    "        (n - 28) * 51 * np.pi / 160) / (n - 28) / np.pi + np.sin(\n",
    "            (n - 28) * np.pi) / (n - 28) / np.pi - np.sin(\n",
    "                (n - 28) * 109 * np.pi / 160) / (n - 28) / np.pi)\n"
   ]
  },
  {
   "cell_type": "code",
   "execution_count": 43,
   "metadata": {},
   "outputs": [
    {
     "data": {
      "text/plain": [
       "4.857142857142857"
      ]
     },
     "execution_count": 43,
     "metadata": {},
     "output_type": "execute_result"
    }
   ],
   "source": [
    "8/28*17"
   ]
  },
  {
   "cell_type": "code",
   "execution_count": 37,
   "metadata": {},
   "outputs": [
    {
     "data": {
      "image/png": "[encoded data removed]",
      "text/plain": [
       "<Figure size 1500x400 with 1 Axes>"
      ]
     },
     "metadata": {},
     "output_type": "display_data"
    }
   ],
   "source": [
    "hn = []\n",
    "for n in range(0,57):\n",
    "    if(n!=28):\n",
    "        hn.append(hf(n))\n",
    "    else:\n",
    "        hn.append(51/80)\n",
    "hw = xDft(hn,57)\n",
    "xshow(range(0,57),hn,'title','x','y')"
   ]
  },
  {
   "cell_type": "code",
   "execution_count": null,
   "metadata": {},
   "outputs": [],
   "source": []
  }
 ],
 "metadata": {
  "kernelspec": {
   "display_name": "Python 3",
   "language": "python",
   "name": "python3"
  },
  "language_info": {
   "codemirror_mode": {
    "name": "ipython",
    "version": 3
   },
   "file_extension": ".py",
   "mimetype": "text/x-python",
   "name": "python",
   "nbconvert_exporter": "python",
   "pygments_lexer": "ipython3",
   "version": "3.10.6"
  },
  "orig_nbformat": 4
 },
 "nbformat": 4,
 "nbformat_minor": 2
}
