{
 "cells": [
  {
   "cell_type": "code",
   "execution_count": null,
   "metadata": {},
   "outputs": [],
   "source": [
    "# Import libs\n",
    "import matplotlib.pyplot as plt\n",
    "import numpy as np"
   ]
  },
  {
   "cell_type": "code",
   "execution_count": null,
   "metadata": {},
   "outputs": [],
   "source": [
    "def xshow(n, x, title, xlabel, ylabel):\n",
    "    ''' 描绘序列, 绘制棒棒糖图(Lollipop Chart)\n",
    "\n",
    "    :n: 与x等长的自然数序列\n",
    "    :x: 需要绘制的序列\n",
    "    :title: 图标题\n",
    "    :xlabel: x轴标签\n",
    "    :ylabel: y轴标签\n",
    "    \n",
    "    '''\n",
    "    # plot the chart\n",
    "    fig, ax = plt.subplots(figsize=(15,4), dpi= 100)\n",
    "    ax.vlines(x=n, ymin=0, ymax=x, alpha=0.7, linewidth=2)                #plot line\n",
    "    ax.scatter(x=n, y=x, s=75, alpha=0.7)                                 #plot dots\n",
    "\n",
    "    # Title, Lable, Ticks, and Ylim\n",
    "    ax.set_title(title, fontdict={'size':20})      \n",
    "    ax.set_ylabel(ylabel,fontdict={'size':20})                             \n",
    "    plt.tick_params(labelsize=20)\n",
    "    ax.set_xticks(n)                                                       \n",
    "    ax.set_xlabel(xlabel,fontdict={'size':20})\n",
    "    if(round(np.min(x),2)<0):\n",
    "        ax.set_ylim(np.min(x)-0.5,np.max(x)+0.5)\n",
    "    else:\n",
    "        ax.set_ylim(0, np.max(x)+0.5)\n",
    "\n",
    "    # Annotation\n",
    "    for i,j in zip(n,x):\n",
    "        ax.text(i, j+.1, s=round(j, 2), horizontalalignment= 'center', verticalalignment='bottom', fontsize=14)\n",
    "\n",
    "    plt.show()\n",
    "    return\n",
    "\n",
    "def xDft(x, length):\n",
    "    '''对序列做DFT变换\n",
    "\n",
    "    :x: 待变换的序列\n",
    "    :length: 序列长度\n",
    "    :return Xf: 变换后序列\n",
    "\n",
    "    '''\n",
    "    Xf=np.zeros(length, dtype=complex)\n",
    "    n=np.arange(0,length)\n",
    "    for k in n:\n",
    "        for m in n:\n",
    "            Xf[k]+=x[m]*np.e**(-2*np.pi*1j*m*k/length)\n",
    "    return Xf\n",
    "\n",
    "def xgenerate(f,T,N):\n",
    "    '''生成正弦采样序列\n",
    "\n",
    "    :f: 信号频率\n",
    "    :T: 采样间隔\n",
    "    :N: 采样点数\n",
    "    :return n: 生成的自然数序列\n",
    "    :return x: 生成的采样序列\n",
    "    '''\n",
    "    n = np.arange(0,N)\n",
    "    x = np.zeros(N)\n",
    "    for i in n:\n",
    "        x[i]=np.sin(2*np.pi*f*i*T)\n",
    "    return n,x"
   ]
  },
  {
   "cell_type": "code",
   "execution_count": null,
   "metadata": {},
   "outputs": [],
   "source": [
    "# 第一组参数\n",
    "f1=50\n",
    "T1=0.000625\n",
    "N1=32\n",
    "\n",
    "n1,x1=xgenerate(f1,T1,N1)\n",
    "xshow(n1,x1,'$x_1[n]=\\sin(2\\pi fnT)$\\n$f=50$Hz,$T=0.000625$s,$N=32$','$n$','$x_1[n]$')\n",
    "\n",
    "X1=xDft(x1,N1)\n",
    "xshow(n1,np.abs(X1),'|DFT($x_1[n]$)|','$k$','$|X_1[k]|$')\n",
    "xshow(n1,np.real(X1),'Real(DFT($x_1[n]$))','$k$','Real($X_1[k]$)')\n",
    "xshow(n1,np.imag(X1),'Imag(DFT($x_1[n]$))','$k$','Imag($X_1[k]$)')\n"
   ]
  },
  {
   "cell_type": "code",
   "execution_count": null,
   "metadata": {},
   "outputs": [],
   "source": [
    "# 第二组参数\n",
    "f2=50\n",
    "T2=0.005\n",
    "N2=32\n",
    "\n",
    "n2,x2=xgenerate(f2,T2,N2)\n",
    "xshow(n2,x2,'$x_2[n]=\\sin(2\\pi fnT)$\\n$f=50$Hz,$T=0.005$s,$N=32$','$n$','$x_2[n]$')\n",
    "\n",
    "X2=xDft(x2,N2)\n",
    "xshow(n2,np.abs(X2),'|DFT($x_2[n]$)|','$k$','$|X_2[k]|$')\n",
    "xshow(n2,np.real(X2),'Real(DFT($x_2[n]$))','$k$','Real($X_2[k]$)')\n",
    "xshow(n2,np.imag(X2),'Imag(DFT($x_2[n]$))','$k$','Imag($X_2[k]$)')\n"
   ]
  },
  {
   "cell_type": "code",
   "execution_count": null,
   "metadata": {},
   "outputs": [],
   "source": [
    "# 第三组参数\n",
    "f3=50\n",
    "T3=0.0046875\n",
    "N3=32\n",
    "\n",
    "n3,x3=xgenerate(f3,T3,N3)\n",
    "xshow(n3,x3,'$x_3[n]=\\sin(2\\pi fnT)$\\n$f=50$Hz,$T=0.0046875$s,$N=32$','$n$','$x_3[n]$')\n",
    "\n",
    "X3=xDft(x3,N3)\n",
    "xshow(n3,np.abs(X3),'|DFT($x_3[n]$)|','$k$','$|X_3[k]|$')\n",
    "xshow(n3,np.real(X3),'Real(DFT($x_3[n]$))','$k$','Real($X_3[k]$)')\n",
    "xshow(n3,np.imag(X3),'Imag(DFT($x_3[n]$))','$k$','Imag($X_3[k]$)')\n"
   ]
  },
  {
   "cell_type": "code",
   "execution_count": null,
   "metadata": {},
   "outputs": [],
   "source": [
    "# 第四组参数\n",
    "f4=50\n",
    "T4=0.004\n",
    "N4=32\n",
    "\n",
    "n4,x4=xgenerate(f4,T4,N4)\n",
    "xshow(n4,x4,'$x_4[n]=\\sin(2\\pi fnT)$\\n$f=50$Hz,$T=0.004$s,$N=32$','$n$','$x_4[n]$')\n",
    "\n",
    "X4=xDft(x4,N4)\n",
    "xshow(n4,np.abs(X4),'|DFT($x_4[n]$)|','$k$','$|X_4[k]|$')\n",
    "xshow(n4,np.real(X4),'Real(DFT($x_4[n]$))','$k$','Real($X_4[k]$)')\n",
    "xshow(n4,np.imag(X4),'Imag(DFT($x_4[n]$))','$k$','Imag($X_4[k]$)')\n"
   ]
  },
  {
   "cell_type": "code",
   "execution_count": null,
   "metadata": {},
   "outputs": [],
   "source": [
    "# 第五组参数\n",
    "f5=50\n",
    "T5=0.0025\n",
    "N5=16\n",
    "\n",
    "n5,x5=xgenerate(f5,T5,N5)\n",
    "xshow(n5,x5,'$x_5[n]=\\sin(2\\pi fnT)$\\n$f=50$Hz,$T=0.0025$s,$N=16$','$n$','$x_5[n]$')\n",
    "\n",
    "X5=xDft(x5,N5)\n",
    "xshow(n5,np.abs(X5),'|DFT($x_5[n]$)|','$k$','$|X_5[k]|$')\n",
    "xshow(n5,np.real(X5),'Real(DFT($x_5[n]$))','$k$','Real($X_5[k]$)')\n",
    "xshow(n5,np.imag(X5),'Imag(DFT($x_5[n]$))','$k$','Imag($X_5[k]$)')\n"
   ]
  }
 ],
 "metadata": {
  "kernelspec": {
   "display_name": "Python 3",
   "language": "python",
   "name": "python3"
  },
  "language_info": {
   "codemirror_mode": {
    "name": "ipython",
    "version": 3
   },
   "file_extension": ".py",
   "mimetype": "text/x-python",
   "name": "python",
   "nbconvert_exporter": "python",
   "pygments_lexer": "ipython3",
   "version": "3.10.6"
  },
  "orig_nbformat": 4
 },
 "nbformat": 4,
 "nbformat_minor": 2
}
